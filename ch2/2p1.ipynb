{
 "cells": [
  {
   "cell_type": "code",
   "execution_count": 1,
   "metadata": {},
   "outputs": [],
   "source": [
    "import torch"
   ]
  },
  {
   "cell_type": "markdown",
   "metadata": {},
   "source": [
    "# 2.1 Data Manipulation\n",
    "\n",
    "2.1.8 Exercises\n",
    "    \n",
    "2. Replace the two tensors that operate by element in the broadcasting mechanism with other shapes, e.g., 3-dimensional tensors. Is the result the same as expected?"
   ]
  },
  {
   "cell_type": "code",
   "execution_count": 2,
   "metadata": {},
   "outputs": [
    {
     "data": {
      "text/plain": [
       "(tensor([[0],\n",
       "         [1],\n",
       "         [2]]),\n",
       " tensor([[0, 1]]),\n",
       " tensor([[[0, 1, 2]],\n",
       " \n",
       "         [[3, 4, 5]]]))"
      ]
     },
     "execution_count": 2,
     "metadata": {},
     "output_type": "execute_result"
    }
   ],
   "source": [
    "a = torch.arange(3).reshape(3, 1)\n",
    "b = torch.arange(6).reshape(2, 1, 3)\n",
    "c = torch.arange(2).reshape(1, 2)\n",
    "a, c, b"
   ]
  },
  {
   "cell_type": "code",
   "execution_count": 3,
   "metadata": {},
   "outputs": [
    {
     "name": "stdout",
     "output_type": "stream",
     "text": [
      "tensor([[0, 1],\n",
      "        [1, 2],\n",
      "        [2, 3]])\n",
      "tensor([[[0, 1, 2],\n",
      "         [1, 2, 3],\n",
      "         [2, 3, 4]],\n",
      "\n",
      "        [[3, 4, 5],\n",
      "         [4, 5, 6],\n",
      "         [5, 6, 7]]])\n"
     ]
    },
    {
     "data": {
      "text/plain": [
       "'\\nbroadcast mechanism:\\nhttps://zhuanlan.zhihu.com/p/86997775\\n'"
      ]
     },
     "execution_count": 3,
     "metadata": {},
     "output_type": "execute_result"
    }
   ],
   "source": [
    "print(a + c)\n",
    "print(a + b) # (3,1)+(2,3,1)=(2,3,1); (3,1)+(2,1,3)=(2,3,3); (3,1)+(1,2,3) error\n",
    "'''\n",
    "broadcast mechanism:\n",
    "https://zhuanlan.zhihu.com/p/86997775\n",
    "'''"
   ]
  }
 ],
 "metadata": {
  "kernelspec": {
   "display_name": "dl",
   "language": "python",
   "name": "python3"
  },
  "language_info": {
   "codemirror_mode": {
    "name": "ipython",
    "version": 3
   },
   "file_extension": ".py",
   "mimetype": "text/x-python",
   "name": "python",
   "nbconvert_exporter": "python",
   "pygments_lexer": "ipython3",
   "version": "3.9.18"
  }
 },
 "nbformat": 4,
 "nbformat_minor": 2
}
