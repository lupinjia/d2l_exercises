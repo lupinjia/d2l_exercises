{
 "cells": [
  {
   "cell_type": "markdown",
   "metadata": {},
   "source": [
    "# 2.6 Probability and Statistics\n",
    "\n",
    "2.6.8 Exercises"
   ]
  },
  {
   "cell_type": "markdown",
   "metadata": {},
   "source": [
    "1. Give an example where observing more data can reduce the amount of uncertainty about the outcome to an arbitrarily low level."
   ]
  },
  {
   "cell_type": "markdown",
   "metadata": {},
   "source": [
    "Tossing coins. If we conduct more coin tosses, we can make the error between the frequency and probability of getting heads smaller."
   ]
  },
  {
   "cell_type": "markdown",
   "metadata": {},
   "source": [
    "2. Give an example where observing more data will only reduce the amount of uncertainty up to a point and then no further. Explain why this is the case and where you expect this point to occur."
   ]
  },
  {
   "cell_type": "markdown",
   "metadata": {},
   "source": [
    "Like measuring the EMG(肌电信号), even if you measure it by a proper way, it is still subject to noise. The uncertainty is still there. "
   ]
  },
  {
   "cell_type": "markdown",
   "metadata": {},
   "source": [
    "3. We empirically demonstrated convergence to the mean for the toss of a coin. Calculate the variance of the estimate of the probability that we see a head after drawing $n$ samples.\n",
    "\n",
    "    1. How does the variance scale with the number of observations?\n",
    "\n",
    "    2. Use Chebyshev’s inequality to bound the deviation from the expectation.\n",
    "\n",
    "    3. How does it relate to the central limit theorem?"
   ]
  },
  {
   "cell_type": "markdown",
   "metadata": {},
   "source": [
    "<img src=\"./2p6_3.jpeg\" width = \"600\" height = \"750\" alt=\"2p6_3\"/>"
   ]
  },
  {
   "cell_type": "markdown",
   "metadata": {},
   "source": [
    "4. \n",
    "   \n",
    "   do not understand the question"
   ]
  },
  {
   "cell_type": "markdown",
   "metadata": {},
   "source": [
    "5. Given two events with probability $P(A)$ and $P(B)$, compute upper and lower bounds on $P(A \\cap B)$ and $P(A \\cup B)$. Hint: graph the situation using a Venn diagram."
   ]
  },
  {
   "cell_type": "markdown",
   "metadata": {},
   "source": [
    "<img src=\"./2p6_5.jpeg\" width = \"600\" height = \"750\" alt=\"2p6_5\"/>"
   ]
  },
  {
   "cell_type": "markdown",
   "metadata": {},
   "source": [
    "6. Assume that we have a sequence of random variables, say $A, B$, and $C$, where $B$ only depends on $A$ and $C$ only depends on $B$, can you simplify the joint probability $P(A, B, C)$? Hint: this is a markov chain."
   ]
  },
  {
   "cell_type": "markdown",
   "metadata": {},
   "source": [
    "<img src=\"./2p6_6.jpeg\" width = \"600\" height = \"750\" alt=\"2p6_6\"/>"
   ]
  },
  {
   "cell_type": "markdown",
   "metadata": {},
   "source": [
    "7. In Section 2.6.5, assume that the outcomes of the two tests are not independent. In particular assume that either test on its own has a false positive rate of 10% and a false negative rate of 1%. That is, assume that $P(D=1|H=0)=0.1$ and that $P(D=0|H=1)=0.01$. Moreover, assume that for $H=1$(infected) the test outcomes are conditionally independent, i.e., that $P(D_1,D_2|H=1)=P(D_1|H=1)P(D_2|H=1)$ but that for healthy patients the outcomes are coupled via $P(D_1=D_2=1|H=0)=0.02$. \n",
    "   \n",
    "   1. Work out the joint probability table for $D_1$ and $D_2$ given $H=0$ based on the information you have so far.\n",
    "   2. Derive the probability that the patient is diseased($H=1$) after one test returns positive. You can assume the same baseline probability $P(H=1)=0.0015$ as before.\n",
    "   3. Derive the probability that the patient is diseased($H=1$) after both tests return positive."
   ]
  },
  {
   "cell_type": "markdown",
   "metadata": {},
   "source": [
    "<img src=\"./2p6_7_1.jpeg\" width = \"600\" height = \"750\" alt=\"2p6_7_1\"/>\n",
    "<img src=\"./2p6_7_2.jpeg\" width = \"600\" height = \"750\" alt=\"2p6_7_2\"/>"
   ]
  },
  {
   "cell_type": "markdown",
   "metadata": {},
   "source": [
    "8. Assume that you are an asset manager for an investment bank and you have a choice of stocks $s_i$ to invest in. Your portfolio needs to add up to 1 with weights $\\alpha_i$ for each stock. The stocks have an average return $\\mathbf{\\mu} = E_{s\\sim P}[\\mathbf{s}]$ and covariance $\\Sigma = Cov_{s\\sim P}[\\mathbf{s}]$\n",
    "   \n",
    "   1. Compute the expected return for a given portfolio $\\mathbf{\\alpha}$.\n",
    "   2. If you wanted to maximize the return of the portfolio, how should you choose your investment?\n",
    "   3. Compute the variance of the portfolio.\n",
    "   4. Formulate an optimization problem of maximizing the return while keeping the variance constrained to an upper bound. This is the Nobel-Prize winning [Markovitz portfolio](https://en.wikipedia.org/wiki/Markowitz_model). To solve it you will need a quadratic programming solver, something way beyond the scope of this book."
   ]
  },
  {
   "cell_type": "markdown",
   "metadata": {},
   "source": [
    "<img src=\"./2p6_8.jpeg\" width = \"600\" height = \"750\" alt=\"2p6_8\"/>"
   ]
  }
 ],
 "metadata": {
  "kernelspec": {
   "display_name": "dl",
   "language": "python",
   "name": "python3"
  },
  "language_info": {
   "codemirror_mode": {
    "name": "ipython",
    "version": 3
   },
   "file_extension": ".py",
   "mimetype": "text/x-python",
   "name": "python",
   "nbconvert_exporter": "python",
   "pygments_lexer": "ipython3",
   "version": "3.9.18"
  }
 },
 "nbformat": 4,
 "nbformat_minor": 2
}
