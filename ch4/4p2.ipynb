{
 "cells": [
  {
   "cell_type": "markdown",
   "metadata": {},
   "source": [
    "# 4.2 The Image Classification Dataset"
   ]
  },
  {
   "cell_type": "markdown",
   "metadata": {},
   "source": [
    "## 1. Does reducing the `batch_size` (for instance, to 1) affect the reading performance?"
   ]
  },
  {
   "cell_type": "code",
   "execution_count": 2,
   "metadata": {},
   "outputs": [
    {
     "name": "stdout",
     "output_type": "stream",
     "text": [
      "Downloading http://fashion-mnist.s3-website.eu-central-1.amazonaws.com/train-images-idx3-ubyte.gz\n",
      "Downloading http://fashion-mnist.s3-website.eu-central-1.amazonaws.com/train-images-idx3-ubyte.gz to ../data\\FashionMNIST\\raw\\train-images-idx3-ubyte.gz\n"
     ]
    },
    {
     "name": "stderr",
     "output_type": "stream",
     "text": [
      "100%|██████████| 26421880/26421880 [00:25<00:00, 1044437.49it/s]\n"
     ]
    },
    {
     "name": "stdout",
     "output_type": "stream",
     "text": [
      "Extracting ../data\\FashionMNIST\\raw\\train-images-idx3-ubyte.gz to ../data\\FashionMNIST\\raw\n",
      "\n",
      "Downloading http://fashion-mnist.s3-website.eu-central-1.amazonaws.com/train-labels-idx1-ubyte.gz\n",
      "Downloading http://fashion-mnist.s3-website.eu-central-1.amazonaws.com/train-labels-idx1-ubyte.gz to ../data\\FashionMNIST\\raw\\train-labels-idx1-ubyte.gz\n"
     ]
    },
    {
     "name": "stderr",
     "output_type": "stream",
     "text": [
      "100%|██████████| 29515/29515 [00:00<00:00, 233929.68it/s]\n"
     ]
    },
    {
     "name": "stdout",
     "output_type": "stream",
     "text": [
      "Extracting ../data\\FashionMNIST\\raw\\train-labels-idx1-ubyte.gz to ../data\\FashionMNIST\\raw\n",
      "\n",
      "Downloading http://fashion-mnist.s3-website.eu-central-1.amazonaws.com/t10k-images-idx3-ubyte.gz\n",
      "Downloading http://fashion-mnist.s3-website.eu-central-1.amazonaws.com/t10k-images-idx3-ubyte.gz to ../data\\FashionMNIST\\raw\\t10k-images-idx3-ubyte.gz\n"
     ]
    },
    {
     "name": "stderr",
     "output_type": "stream",
     "text": [
      "100%|██████████| 4422102/4422102 [00:06<00:00, 720119.74it/s]\n"
     ]
    },
    {
     "name": "stdout",
     "output_type": "stream",
     "text": [
      "Extracting ../data\\FashionMNIST\\raw\\t10k-images-idx3-ubyte.gz to ../data\\FashionMNIST\\raw\n",
      "\n",
      "Downloading http://fashion-mnist.s3-website.eu-central-1.amazonaws.com/t10k-labels-idx1-ubyte.gz\n",
      "Downloading http://fashion-mnist.s3-website.eu-central-1.amazonaws.com/t10k-labels-idx1-ubyte.gz to ../data\\FashionMNIST\\raw\\t10k-labels-idx1-ubyte.gz\n"
     ]
    },
    {
     "name": "stderr",
     "output_type": "stream",
     "text": [
      "100%|██████████| 5148/5148 [00:00<?, ?it/s]\n"
     ]
    },
    {
     "name": "stdout",
     "output_type": "stream",
     "text": [
      "Extracting ../data\\FashionMNIST\\raw\\t10k-labels-idx1-ubyte.gz to ../data\\FashionMNIST\\raw\n",
      "\n",
      "Time(BatchSize=1): 16.98 sec\n",
      "Time(BatchSize=64): 5.53 sec\n"
     ]
    }
   ],
   "source": [
    "#----- Import Modules -----#\n",
    "import time\n",
    "import torch\n",
    "import torchvision\n",
    "from torchvision import transforms\n",
    "from d2l import torch as d2l\n",
    "#----- Define FashionMNIST DataModule -----#\n",
    "class FashionMNIST(d2l.DataModule):\n",
    "    def __init__(self, batch_size=64, resize=(28,28)):\n",
    "        super().__init__()\n",
    "        self.save_hyperparameters()\n",
    "        # Define the transform applied to each image\n",
    "        trans = transforms.Compose([\n",
    "            transforms.Resize(resize),\n",
    "            transforms.ToTensor()\n",
    "        ])\n",
    "        # Get the FashionMNIST dataset.\n",
    "        # default root is \"../data\"\n",
    "        self.train = torchvision.datasets.FashionMNIST(\n",
    "            root=self.root, train=True, transform=trans, download=True)\n",
    "        self.val = torchvision.datasets.FashionMNIST(\n",
    "            root=self.root, train=False, transform=trans, download=True)\n",
    "    \n",
    "    def text_labels(self, indices):\n",
    "        # Define the text labels for each class\n",
    "        text_labels = ['t-shirt', 'trouser', 'pullover', 'dress', 'coat',\n",
    "                       'sandal', 'shirt', 'sneaker', 'bag', 'ankle boot']\n",
    "        return [text_labels[int(i)] for i in indices]\n",
    "    \n",
    "    def get_dataloader(self, train):\n",
    "        data = self.train if train else self.val\n",
    "        # default num_workers is 0\n",
    "        return torch.utils.data.DataLoader(\n",
    "            data, batch_size=self.batch_size, shuffle=train, num_workers=self.num_workers)\n",
    "    \n",
    "    def visualize(self, batch, nrows=1, ncols=8, labels=[]):\n",
    "        X, y = batch\n",
    "        if not labels:\n",
    "            labels = self.text_labels(y)\n",
    "        d2l.show_images(X.squeeze(1), nrows, ncols, titles=labels)  # squeeze the channel dimension\n",
    "#----- Main -----#\n",
    "data = FashionMNIST(batch_size=1, resize=(32, 32))\n",
    "start_time = time.time()\n",
    "for X, y in data.train_dataloader():\n",
    "    continue\n",
    "print(f\"Time(BatchSize=1): {time.time() - start_time:.2f} sec\")\n",
    "data = FashionMNIST(batch_size=64, resize=(32, 32))\n",
    "start_time = time.time()\n",
    "for X, y in data.train_dataloader():\n",
    "    continue\n",
    "print(f\"Time(BatchSize=64): {time.time() - start_time:.2f} sec\")"
   ]
  },
  {
   "cell_type": "markdown",
   "metadata": {},
   "source": [
    "As we can see, a smaller batch_size increase the dataset reading time."
   ]
  },
  {
   "cell_type": "markdown",
   "metadata": {},
   "source": [
    "## 2. The data iterator performance is important. Do you think the current implementation is fast enough? Explore various options to improve it. Use a system profiler to find out where the bottlenecks are."
   ]
  },
  {
   "cell_type": "markdown",
   "metadata": {},
   "source": []
  },
  {
   "cell_type": "markdown",
   "metadata": {},
   "source": [
    "## 3. Check out the framework's online API documentation. Which other datasets are available?"
   ]
  },
  {
   "cell_type": "markdown",
   "metadata": {},
   "source": []
  }
 ],
 "metadata": {
  "kernelspec": {
   "display_name": "dl",
   "language": "python",
   "name": "python3"
  },
  "language_info": {
   "codemirror_mode": {
    "name": "ipython",
    "version": 3
   },
   "file_extension": ".py",
   "mimetype": "text/x-python",
   "name": "python",
   "nbconvert_exporter": "python",
   "pygments_lexer": "ipython3",
   "version": "3.8.18"
  }
 },
 "nbformat": 4,
 "nbformat_minor": 2
}
